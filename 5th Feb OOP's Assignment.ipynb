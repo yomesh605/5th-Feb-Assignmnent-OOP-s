{
 "cells": [
  {
   "cell_type": "code",
   "execution_count": null,
   "id": "7d496a7a-621d-4986-a182-17d50a68cb6e",
   "metadata": {},
   "outputs": [],
   "source": [
    "Q1. Explain Class and Object with respect to Object-Oriented Programming. Give a suitable example."
   ]
  },
  {
   "cell_type": "code",
   "execution_count": null,
   "id": "e9b21720-7b81-4390-8466-3bb369cbf4e6",
   "metadata": {},
   "outputs": [
    {
     "ename": "SyntaxError",
     "evalue": "invalid syntax (2753341536.py, line 1)",
     "output_type": "error",
     "traceback": [
      "\u001b[0;36m  Cell \u001b[0;32mIn[1], line 1\u001b[0;36m\u001b[0m\n\u001b[0;31m    Class is a detailed description, the definition, and the template of what an object will be. But it is not the object itself. Also, what we call, a class is the building block that leads to Object-Oriented Programming. It is a user-defined data type, that holds its own data members and member functions, which can be accessed and used by creating an instance of that class. It is the blueprint of any object. Once we have written a class and defined it, we can use it to create as many objects based on that class as we want.\u001b[0m\n\u001b[0m               ^\u001b[0m\n\u001b[0;31mSyntaxError\u001b[0m\u001b[0;31m:\u001b[0m invalid syntax\n"
     ]
    }
   ],
   "source": [
    "Class is a detailed description, the definition, and the template of what an object will be. But it is not the object itself. Also, what we call, a class is the building block that leads to Object-Oriented Programming. It is a user-defined data type, that holds its own data members and member functions, which can be accessed and used by creating an instance of that class. It is the blueprint of any object. Once we have written a class and defined it, we can use it to create as many objects based on that class as we want. \n",
    "\n",
    "Object is an instance of a class. All data members and member functions of the class can be accessed with the help of objects. When a class is defined, no memory is allocated, but memory is allocated when it is instantiated (i.e. an object is created). For Example, considering the objects for the class Account are SBI Account, ICICI account, etc."
   ]
  },
  {
   "cell_type": "code",
   "execution_count": null,
   "id": "74d0228f-ac46-46bb-a668-fc14fd12d3bc",
   "metadata": {},
   "outputs": [],
   "source": [
    "Q2. Name the four pillars of OOPs."
   ]
  },
  {
   "cell_type": "code",
   "execution_count": null,
   "id": "d8d8b180-288a-44cb-ac80-53a946f028c7",
   "metadata": {},
   "outputs": [],
   "source": [
    "Polymorphism, Encapsulation, Inheritence, Abstraction"
   ]
  },
  {
   "cell_type": "code",
   "execution_count": null,
   "id": "60078e0c-a369-4930-ba4a-a85536f8ed90",
   "metadata": {},
   "outputs": [],
   "source": [
    "Q3. Explain why the __init__() function is used. Give a suitable example."
   ]
  },
  {
   "cell_type": "code",
   "execution_count": null,
   "id": "f7851212-859d-4a57-aeb4-bec480493b0a",
   "metadata": {},
   "outputs": [],
   "source": [
    "The __init__ method lets the class initialize the object's attributes and serves no other purpose. It is only used within classes\n",
    "\n",
    "# Example of a Constructor\n",
    "class person:\n",
    "    def __init__(self, name, age):\n",
    "        self.name = name\n",
    "        self.age = age\n",
    "        \n",
    "p1 = person(\"Yomesh\", 24)\n",
    "\n",
    "p1.name()\n",
    "p1.age()"
   ]
  },
  {
   "cell_type": "code",
   "execution_count": null,
   "id": "da6eec73-8331-42c9-bd72-2a7a62820082",
   "metadata": {},
   "outputs": [],
   "source": [
    "Q4. Why self is used in OOPs?"
   ]
  },
  {
   "cell_type": "code",
   "execution_count": null,
   "id": "59ed41ef-e9d9-4045-92ea-1b9e0aa712f1",
   "metadata": {},
   "outputs": [],
   "source": [
    "The self variable is used to represent the instance of the class, It works as a reference to the object. Python uses the self parameter to refer to instance attributes and methods of the class."
   ]
  },
  {
   "cell_type": "code",
   "execution_count": null,
   "id": "12f300a3-71d4-4cc3-bd8c-0fb9b6a4edd3",
   "metadata": {},
   "outputs": [],
   "source": [
    "Q5. What is inheritance? Give an example for each type of inheritance."
   ]
  },
  {
   "cell_type": "code",
   "execution_count": null,
   "id": "061551b3-e1f6-4a8b-bcc3-ab2803d9f89f",
   "metadata": {},
   "outputs": [],
   "source": [
    "Inheritance allows us to define a class that inherits all the methods and properties from another class. Parent class is the class being inherited from, also called base class\n",
    "\n",
    "#Multi-Level Inheritence\n",
    "\n",
    "class class1:\n",
    "    def test_class1(self):\n",
    "        return \"this is method of class1\"\n",
    "    \n",
    " class class2(class1):\n",
    "    def test_class2(self):\n",
    "        return \"this is method of class2\"  \n",
    "\n",
    "class class3(class2):\n",
    "    pass\n",
    "\n",
    "class3_obj = class3()\n",
    "\n",
    "class3_obj.test_class1()\n",
    "\n",
    "'this is method of class1'\n",
    "\n",
    "class3_obj.test_class2()\n",
    "\n",
    "'this is method of class2'\n",
    "\n",
    "#Multiple Inheritence\n",
    "\n",
    "class class1:\n",
    "    def test_class1(self):\n",
    "        return \"This is a method of class 1\"\n",
    "    \n",
    "class class2:\n",
    "    def test_class2(self):\n",
    "        return \"This is a method of class 2\"\n",
    "    \n",
    "class class3(class1, class2):\n",
    "    pass\n",
    "\n",
    "obj_class3 = class3()\n",
    "\n",
    "obj_class3.test_class1()\n",
    "\n",
    "'This is a method of class 1'\n",
    "\n",
    "obj_class3.test_class2()\n",
    "\n",
    "'This is a method of class 2'"
   ]
  }
 ],
 "metadata": {
  "kernelspec": {
   "display_name": "Python 3 (ipykernel)",
   "language": "python",
   "name": "python3"
  },
  "language_info": {
   "codemirror_mode": {
    "name": "ipython",
    "version": 3
   },
   "file_extension": ".py",
   "mimetype": "text/x-python",
   "name": "python",
   "nbconvert_exporter": "python",
   "pygments_lexer": "ipython3",
   "version": "3.10.8"
  }
 },
 "nbformat": 4,
 "nbformat_minor": 5
}
